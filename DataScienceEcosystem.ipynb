{
 "cells": [
  {
   "cell_type": "markdown",
   "id": "2b851e46-0cbf-414b-bb47-14c5b79ff668",
   "metadata": {},
   "source": [
    "# H1: Data Science Tools and Ecosystem"
   ]
  },
  {
   "cell_type": "markdown",
   "id": "178b3df3-4df0-45ef-8533-ea9d88588758",
   "metadata": {},
   "source": [
    "In this notebook, Data Science Tools and Ecosystem are summarized.\n",
    "\n"
   ]
  },
  {
   "cell_type": "markdown",
   "id": "79501ee8-091e-4386-8f38-7c67bf598894",
   "metadata": {},
   "source": [
    "**Objectives:**\n",
    "* List popular languages for Data Science\n",
    "* List commonly used libraries used by Data Scientists\n",
    "* Cover minutes to hours\n"
   ]
  },
  {
   "cell_type": "markdown",
   "id": "267b61e6-93a5-418b-94ad-ace865f582da",
   "metadata": {},
   "source": [
    "Some of the popular languages that Data Scientists use are:\n",
    "1. Java\n",
    "2. C++\n",
    "3. C\n",
    "4. R\n",
    "5. Python\n"
   ]
  },
  {
   "cell_type": "markdown",
   "id": "fe78806a-8f72-4b7b-ab9b-05dd7dbad6cd",
   "metadata": {},
   "source": [
    "Some of the commonly used libraries used by Data Scientists include:\n",
    "1. NumbPy\n",
    "2. Pandas\n",
    "3. SciPy\n",
    "    "
   ]
  },
  {
   "cell_type": "markdown",
   "id": "c9fb4def-b6a5-4f8f-aa8a-cad3210ca5a2",
   "metadata": {},
   "source": [
    "Data Science Tools:|\n",
    "| --- |\n",
    "|TensorFlow|\n",
    "|R Studio|\n",
    "|Apache Spark|"
   ]
  },
  {
   "cell_type": "markdown",
   "id": "0aa15bce-c3ff-4dfc-aa7d-0d31bef98431",
   "metadata": {},
   "source": [
    "# H3: Below are a few examples of evaluating arithmetic expressions in Python"
   ]
  },
  {
   "cell_type": "markdown",
   "id": "769f11c2-50aa-4a9b-afa2-13989e239edf",
   "metadata": {},
   "source": [
    " This a simple arithmetic expression to mutiply then add integers\n"
   ]
  },
  {
   "cell_type": "code",
   "execution_count": 19,
   "id": "cee1a9a5-1c53-445f-8345-b21a1ef6b61f",
   "metadata": {},
   "outputs": [
    {
     "data": {
      "text/plain": [
       "17"
      ]
     },
     "execution_count": 19,
     "metadata": {},
     "output_type": "execute_result"
    }
   ],
   "source": [
    "(3*4)+5\n"
   ]
  },
  {
   "cell_type": "code",
   "execution_count": 23,
   "id": "3b32f5b5-fa7c-4df6-9e12-cea381c5fa49",
   "metadata": {},
   "outputs": [
    {
     "name": "stdout",
     "output_type": "stream",
     "text": [
      "3.3333333333333335\n"
     ]
    }
   ],
   "source": [
    "minutes = 200\n",
    "hours = minutes / 60\n",
    "print(hours)\n"
   ]
  },
  {
   "cell_type": "markdown",
   "id": "3c3cafcc-58c7-47b5-b3d3-c9eb8bf12c7e",
   "metadata": {},
   "source": [
    "# H2: Author \n",
    "Alexandra Bolzonello"
   ]
  },
  {
   "cell_type": "code",
   "execution_count": null,
   "id": "d6fde269-7ae5-4731-a765-4ac2ac6564f7",
   "metadata": {},
   "outputs": [],
   "source": []
  }
 ],
 "metadata": {
  "kernelspec": {
   "display_name": "anaconda-2022.05-py39",
   "language": "python",
   "name": "conda-env-anaconda-2022.05-py39-py"
  },
  "language_info": {
   "codemirror_mode": {
    "name": "ipython",
    "version": 3
   },
   "file_extension": ".py",
   "mimetype": "text/x-python",
   "name": "python",
   "nbconvert_exporter": "python",
   "pygments_lexer": "ipython3",
   "version": "3.9.12"
  }
 },
 "nbformat": 4,
 "nbformat_minor": 5
}
